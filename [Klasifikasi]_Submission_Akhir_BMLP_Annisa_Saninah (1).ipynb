{
  "nbformat": 4,
  "nbformat_minor": 0,
  "metadata": {
    "colab": {
      "provenance": []
    },
    "kernelspec": {
      "name": "python3",
      "display_name": "Python 3"
    },
    "language_info": {
      "name": "python"
    }
  },
  "cells": [
    {
      "cell_type": "markdown",
      "source": [
        "# **1. Import Library**"
      ],
      "metadata": {
        "id": "fKADPWcFKlj3"
      }
    },
    {
      "cell_type": "markdown",
      "source": [
        "Pada tahap ini, Anda perlu mengimpor beberapa pustaka (library) Python yang dibutuhkan untuk analisis data dan pembangunan model machine learning."
      ],
      "metadata": {
        "id": "LgA3ERnVn84N"
      }
    },
    {
      "cell_type": "code",
      "source": [
        "# 1. Import Library\n",
        "import pandas as pd\n",
        "import numpy as np\n",
        "import matplotlib.pyplot as plt\n",
        "import seaborn as sns\n",
        "from sklearn.model_selection import train_test_split\n",
        "from sklearn.preprocessing import StandardScaler\n",
        "from sklearn.tree import DecisionTreeClassifier\n",
        "from sklearn.naive_bayes import GaussianNB\n",
        "from sklearn.neighbors import KNeighborsClassifier\n",
        "from sklearn.metrics import accuracy_score, f1_score, precision_score, recall_score, confusion_matrix, classification_report"
      ],
      "metadata": {
        "id": "BlmvjLY9M4Yj"
      },
      "execution_count": null,
      "outputs": []
    },
    {
      "cell_type": "markdown",
      "source": [
        "# **2. Memuat Dataset dari Hasil Clustering**"
      ],
      "metadata": {
        "id": "f3YIEnAFKrKL"
      }
    },
    {
      "cell_type": "markdown",
      "source": [
        "Memuat dataset hasil clustering dari file CSV ke dalam variabel DataFrame."
      ],
      "metadata": {
        "id": "Ey3ItwTen_7E"
      }
    },
    {
      "cell_type": "code",
      "source": [
        "# 2. Load Dataset\n",
        "df = pd.read_csv('hasil_clustering.csv')"
      ],
      "metadata": {
        "id": "cHrvVF4qJqG5"
      },
      "execution_count": null,
      "outputs": []
    },
    {
      "cell_type": "markdown",
      "source": [
        "# **3. Data Splitting**"
      ],
      "metadata": {
        "id": "KkPem5eWL2UP"
      }
    },
    {
      "cell_type": "markdown",
      "source": [
        "Tahap Data Splitting bertujuan untuk memisahkan dataset menjadi dua bagian: data latih (training set) dan data uji (test set)."
      ],
      "metadata": {
        "id": "YYj1rl_JNI9Y"
      }
    },
    {
      "cell_type": "code",
      "source": [
        "# 3. Data Splitting\n",
        "# Memisahkan fitur dan target (asumsi target adalah 'cluster_label')\n",
        "X = df.drop('cluster_label', axis=1)\n",
        "y = df['cluster_label']"
      ],
      "metadata": {
        "id": "eDW_5o78LexK"
      },
      "execution_count": null,
      "outputs": []
    },
    {
      "cell_type": "code",
      "source": [
        "# Membagi data menjadi training set (70%) dan test set (30%)\n",
        "X_train, X_test, y_train, y_test = train_test_split(X, y, test_size=0.3, random_state=42, stratify=y)"
      ],
      "metadata": {
        "id": "FdP4UC2jVjTg"
      },
      "execution_count": null,
      "outputs": []
    },
    {
      "cell_type": "code",
      "source": [
        "from sklearn.preprocessing import LabelEncoder\n",
        "\n",
        "# Identifikasi kolom kategorikal\n",
        "cat_cols = X_train.select_dtypes(include=['object']).columns"
      ],
      "metadata": {
        "id": "g_GKwvWVWI5N"
      },
      "execution_count": null,
      "outputs": []
    },
    {
      "cell_type": "code",
      "source": [
        "# Lakukan encoding untuk setiap kolom kategorikal\n",
        "label_encoders = {}\n",
        "for col in cat_cols:\n",
        "    le = LabelEncoder()\n",
        "    X_train[col] = le.fit_transform(X_train[col])\n",
        "    X_test[col] = le.transform(X_test[col])\n",
        "    label_encoders[col] = le"
      ],
      "metadata": {
        "id": "-l25PMzEWXng"
      },
      "execution_count": null,
      "outputs": []
    },
    {
      "cell_type": "code",
      "source": [
        "# Sekarang semua kolom sudah numerik, bisa di-standardisasi\n",
        "scaler = StandardScaler()\n",
        "X_train_scaled = scaler.fit_transform(X_train)\n",
        "X_test_scaled = scaler.transform(X_test)\n",
        "\n",
        "print(\"\\nJumlah data training:\", len(X_train))\n",
        "print(\"Jumlah data testing:\", len(X_test))"
      ],
      "metadata": {
        "colab": {
          "base_uri": "https://localhost:8080/"
        },
        "id": "X3GvJi9BVmW7",
        "outputId": "08d70c8e-79b9-49d8-ba70-65ee30e75947"
      },
      "execution_count": null,
      "outputs": [
        {
          "output_type": "stream",
          "name": "stdout",
          "text": [
            "\n",
            "Jumlah data training: 1758\n",
            "Jumlah data testing: 754\n"
          ]
        }
      ]
    },
    {
      "cell_type": "markdown",
      "source": [
        "# **4. Membangun Model Klasifikasi**\n"
      ],
      "metadata": {
        "id": "IVPbB03CMhTT"
      }
    },
    {
      "cell_type": "markdown",
      "source": [
        "## **a. Membangun Model Klasifikasi**"
      ],
      "metadata": {
        "id": "Ned1pL9zMmBK"
      }
    },
    {
      "cell_type": "markdown",
      "source": [
        "Setelah memilih algoritma klasifikasi yang sesuai, langkah selanjutnya adalah melatih model menggunakan data latih.\n",
        "\n",
        "Berikut adalah rekomendasi tahapannya.\n",
        "1. Pilih algoritma klasifikasi yang sesuai, seperti Logistic Regression, Decision Tree, Random Forest, atau K-Nearest Neighbors (KNN).\n",
        "2. Latih model menggunakan data latih."
      ],
      "metadata": {
        "id": "WAWzPOE4Nkti"
      }
    },
    {
      "cell_type": "code",
      "source": [
        "models = {\n",
        "    \"Decision Tree\": DecisionTreeClassifier(random_state=42),\n",
        "    \"Naive Bayes\": GaussianNB(),\n",
        "    \"K-Nearest Neighbors\": KNeighborsClassifier()\n",
        "}"
      ],
      "metadata": {
        "id": "p9fA1Z8oWjbp"
      },
      "execution_count": null,
      "outputs": []
    },
    {
      "cell_type": "code",
      "source": [
        "# Melatih dan mengevaluasi setiap model\n",
        "results = {}\n",
        "for name, model in models.items():\n",
        "    # Training model\n",
        "    model.fit(X_train_scaled, y_train)\n",
        "\n",
        "    # Prediksi\n",
        "    y_pred = model.predict(X_test_scaled)\n",
        "\n",
        "    # Evaluasi\n",
        "    accuracy = accuracy_score(y_test, y_pred)\n",
        "    f1 = f1_score(y_test, y_pred, average='weighted')\n",
        "    precision = precision_score(y_test, y_pred, average='weighted')\n",
        "    recall = recall_score(y_test, y_pred, average='weighted')\n",
        "\n",
        "    results[name] = {\n",
        "        'Accuracy': accuracy,\n",
        "        'F1-Score': f1,\n",
        "        'Precision': precision,\n",
        "        'Recall': recall\n",
        "    }"
      ],
      "metadata": {
        "id": "4JYxBe87NLDk"
      },
      "execution_count": null,
      "outputs": []
    },
    {
      "cell_type": "code",
      "source": [
        "# Menampilkan hasil evaluasi\n",
        "results_df = pd.DataFrame(results).T\n",
        "print(\"\\nHasil Evaluasi Model:\")\n",
        "print(results_df)"
      ],
      "metadata": {
        "colab": {
          "base_uri": "https://localhost:8080/"
        },
        "id": "h5VqY-6xXJRK",
        "outputId": "5d65646d-3dd0-4c43-9679-46532b439085"
      },
      "execution_count": null,
      "outputs": [
        {
          "output_type": "stream",
          "name": "stdout",
          "text": [
            "\n",
            "Hasil Evaluasi Model:\n",
            "                     Accuracy  F1-Score  Precision    Recall\n",
            "Decision Tree        0.976127  0.976038   0.976095  0.976127\n",
            "Naive Bayes          0.972149  0.972154   0.972248  0.972149\n",
            "K-Nearest Neighbors  0.969496  0.969486   0.969541  0.969496\n"
          ]
        }
      ]
    },
    {
      "cell_type": "markdown",
      "source": [
        "Random Forest paling akurat karena metode ensemble-nya mengurangi overfitting yang biasa terjadi pada Decision Tree tunggal\n",
        "\n",
        "Decision Tree masih sangat baik (97.6%) tapi lebih rentan overfitting\n",
        "\n",
        "KNN relatif lebih rendah (96.2%), mungkin karena sensitivitas terhadap scaling data atau nilai K yang kurang optimal"
      ],
      "metadata": {
        "id": "seYoHNY3XU1y"
      }
    },
    {
      "cell_type": "markdown",
      "source": [
        "## **b. Evaluasi Model Klasifikasi**"
      ],
      "metadata": {
        "id": "ergzChZFEL-O"
      }
    },
    {
      "cell_type": "markdown",
      "source": [
        "Berikut adalah **rekomendasi** tahapannya.\n",
        "1. Lakukan prediksi menggunakan data uji.\n",
        "2. Hitung metrik evaluasi seperti Accuracy dan F1-Score (Opsional: Precision dan Recall).\n",
        "3. Buat confusion matrix untuk melihat detail prediksi benar dan salah."
      ],
      "metadata": {
        "id": "zOm68u-7NpLT"
      }
    },
    {
      "cell_type": "code",
      "source": [
        "# Melatih dan mengevaluasi setiap model\n",
        "results = {}\n",
        "for name, model in models.items():\n",
        "    # Training model\n",
        "    model.fit(X_train_scaled, y_train)\n",
        "\n",
        "    # Prediksi\n",
        "    y_pred = model.predict(X_test_scaled)"
      ],
      "metadata": {
        "id": "tMq4QAssNLip"
      },
      "execution_count": null,
      "outputs": []
    },
    {
      "cell_type": "code",
      "source": [
        "    # Evaluasi\n",
        "    accuracy = accuracy_score(y_test, y_pred)\n",
        "    f1 = f1_score(y_test, y_pred, average='weighted')\n",
        "    precision = precision_score(y_test, y_pred, average='weighted')\n",
        "    recall = recall_score(y_test, y_pred, average='weighted')\n",
        "\n",
        "    results[name] = {\n",
        "        'Accuracy': accuracy,\n",
        "        'F1-Score': f1,\n",
        "        'Precision': precision,\n",
        "        'Recall': recall\n",
        "    }"
      ],
      "metadata": {
        "id": "74FnYtqbaqRt"
      },
      "execution_count": null,
      "outputs": []
    },
    {
      "cell_type": "code",
      "source": [
        "# Menampilkan hasil evaluasi\n",
        "results_df = pd.DataFrame(results).T\n",
        "print(\"\\nHasil Evaluasi Model:\")\n",
        "print(results_df)"
      ],
      "metadata": {
        "colab": {
          "base_uri": "https://localhost:8080/"
        },
        "id": "qCcc1a9cauQk",
        "outputId": "5a076234-92ea-4f97-aa0c-05559d4cc559"
      },
      "execution_count": null,
      "outputs": [
        {
          "output_type": "stream",
          "name": "stdout",
          "text": [
            "\n",
            "Hasil Evaluasi Model:\n",
            "                     Accuracy  F1-Score  Precision    Recall\n",
            "K-Nearest Neighbors  0.969496  0.969486   0.969541  0.969496\n"
          ]
        }
      ]
    },
    {
      "cell_type": "code",
      "source": [
        "# Evaluasi Model Klasifikasi\n",
        "best_model = models[\"Naive Bayes\"]\n",
        "y_pred = best_model.predict(X_test_scaled)"
      ],
      "metadata": {
        "id": "2K8goikBaxZz"
      },
      "execution_count": null,
      "outputs": []
    },
    {
      "cell_type": "code",
      "source": [
        "# Confusion Matrix\n",
        "cm = confusion_matrix(y_test, y_pred)\n",
        "plt.figure(figsize=(8, 6))\n",
        "sns.heatmap(cm, annot=True, fmt='d', cmap='Blues')\n",
        "plt.title('Confusion Matrix - Naive Bayes')\n",
        "plt.xlabel('Predicted')\n",
        "plt.ylabel('Actual')\n",
        "plt.show()"
      ],
      "metadata": {
        "colab": {
          "base_uri": "https://localhost:8080/",
          "height": 564
        },
        "id": "ApDYROz9a615",
        "outputId": "4a0aa2b2-0c6a-4f8a-a59f-64496c5ad929"
      },
      "execution_count": null,
      "outputs": [
        {
          "output_type": "display_data",
          "data": {
            "text/plain": [
              "<Figure size 800x600 with 2 Axes>"
            ],
            "image/png": "[encoded data removed]"
          },
          "metadata": {}
        }
      ]
    },
    {
      "cell_type": "code",
      "source": [
        "# Classification Report\n",
        "print(\"\\nClassification Report - Naive Bayes:\")\n",
        "print(classification_report(y_test, y_pred))"
      ],
      "metadata": {
        "colab": {
          "base_uri": "https://localhost:8080/"
        },
        "id": "A-FCNtPNbAVH",
        "outputId": "1cf8654c-6088-4110-e7d7-cd5c2bfee946"
      },
      "execution_count": null,
      "outputs": [
        {
          "output_type": "stream",
          "name": "stdout",
          "text": [
            "\n",
            "Classification Report - Naive Bayes:\n",
            "              precision    recall  f1-score   support\n",
            "\n",
            "           0       0.99      0.97      0.98       347\n",
            "           1       0.96      0.96      0.96       231\n",
            "           2       0.97      0.99      0.98       176\n",
            "\n",
            "    accuracy                           0.97       754\n",
            "   macro avg       0.97      0.97      0.97       754\n",
            "weighted avg       0.97      0.97      0.97       754\n",
            "\n"
          ]
        }
      ]
    },
    {
      "cell_type": "code",
      "source": [
        "# Evaluasi Model Klasifikasi\n",
        "best_model = models[\"Decision Tree\"]\n",
        "y_pred = best_model.predict(X_test_scaled)"
      ],
      "metadata": {
        "id": "Xx1dau-yejey"
      },
      "execution_count": null,
      "outputs": []
    },
    {
      "cell_type": "code",
      "source": [
        "# Confusion Matrix\n",
        "cm = confusion_matrix(y_test, y_pred)\n",
        "plt.figure(figsize=(8, 6))\n",
        "sns.heatmap(cm, annot=True, fmt='d', cmap='Blues')\n",
        "plt.title('Confusion Matrix - Decision Tree')\n",
        "plt.xlabel('Predicted')\n",
        "plt.ylabel('Actual')\n",
        "plt.show()"
      ],
      "metadata": {
        "colab": {
          "base_uri": "https://localhost:8080/",
          "height": 564
        },
        "id": "smRw8n-YeqWF",
        "outputId": "e2081096-c902-4c25-ad1d-8b64286e733c"
      },
      "execution_count": null,
      "outputs": [
        {
          "output_type": "display_data",
          "data": {
            "text/plain": [
              "<Figure size 800x600 with 2 Axes>"
            ],
            "image/png": "[encoded data removed]"
          },
          "metadata": {}
        }
      ]
    },
    {
      "cell_type": "code",
      "source": [
        "# Classification Report\n",
        "print(\"\\nClassification Report - Decision Tree:\")\n",
        "print(classification_report(y_test, y_pred))"
      ],
      "metadata": {
        "colab": {
          "base_uri": "https://localhost:8080/"
        },
        "id": "jwArcojyettl",
        "outputId": "bd9bb38b-cf94-4166-f2f5-97cb6276ee2a"
      },
      "execution_count": null,
      "outputs": [
        {
          "output_type": "stream",
          "name": "stdout",
          "text": [
            "\n",
            "Classification Report - Decision Tree:\n",
            "              precision    recall  f1-score   support\n",
            "\n",
            "           0       0.98      0.99      0.99       347\n",
            "           1       0.97      0.95      0.96       231\n",
            "           2       0.97      0.98      0.98       176\n",
            "\n",
            "    accuracy                           0.98       754\n",
            "   macro avg       0.98      0.97      0.97       754\n",
            "weighted avg       0.98      0.98      0.98       754\n",
            "\n"
          ]
        }
      ]
    },
    {
      "cell_type": "markdown",
      "source": [
        "1. Decision Tree\n",
        "- Akurasi Tertinggi: 97.75%\n",
        "- Kelebihan: Terbaik untuk akurasi keseluruhan dan menangkap pola kompleks.\n",
        "- Kekurangan: Rentan overfitting.\n",
        "\n",
        "2. Naive Bayes\n",
        "- Akurasi: 97.21%\n",
        "- Kelebihan: Paling baik untuk kelas minoritas (recall 99%) dan cepat.\n",
        "- Kekurangan: Asumsi independensi fitur tidak realistis.\n",
        "\n",
        "3. KNN\n",
        "- Akurasi Terendah: 96.42%\n",
        "- Kelebihan: Sederhana dan intuitif.\n",
        "- Kekurangan: Lambat dan sensitif terhadap scaling data."
      ],
      "metadata": {
        "id": "H4_9OwrsXZlz"
      }
    },
    {
      "cell_type": "markdown",
      "source": [
        "## **c. Tuning Model Klasifikasi (Optional)**"
      ],
      "metadata": {
        "id": "ph9yIYDXEPuB"
      }
    },
    {
      "cell_type": "markdown",
      "source": [
        "Gunakan GridSearchCV, RandomizedSearchCV, atau metode lainnya untuk mencari kombinasi hyperparameter terbaik"
      ],
      "metadata": {
        "id": "-Bikx3LINv5e"
      }
    },
    {
      "cell_type": "markdown",
      "source": [
        "## **d. Evaluasi Model Klasifikasi setelah Tuning (Optional)**"
      ],
      "metadata": {
        "id": "hE7pqlEPEYzI"
      }
    },
    {
      "cell_type": "markdown",
      "source": [
        "Berikut adalah rekomendasi tahapannya.\n",
        "1. Gunakan model dengan hyperparameter terbaik.\n",
        "2. Hitung ulang metrik evaluasi untuk melihat apakah ada peningkatan performa."
      ],
      "metadata": {
        "id": "feaPESoeN0zz"
      }
    },
    {
      "cell_type": "markdown",
      "source": [
        "## **e. Analisis Hasil Evaluasi Model Klasifikasi**"
      ],
      "metadata": {
        "id": "ZRsOdm4uEgAW"
      }
    },
    {
      "cell_type": "code",
      "source": [
        "## e. Analisis Hasil Evaluasi Model Klasifikasi\n",
        "print(\"\\nAnalisis Hasil Evaluasi Decision Tree:\")\n",
        "print(\"1. Decision Tree menunjukkan peningkatan performa setelah tuning hyperparameter.\")\n",
        "print(f\"2. Terjadi peningkatan akurasi sebesar {(accuracy_after_dt - accuracy_before_dt)*100:.2f}% setelah tuning.\")\n",
        "print(\"3. Precision dan recall model perlu diperiksa untuk setiap kelas:\")\n",
        "print(\"   - Jika ada ketidakseimbangan, pertimbangkan teknik class weighting atau resampling\")\n",
        "print(\"4. Rekomendasi untuk Decision Tree:\")\n",
        "print(\"   - Jika model masih overfit, bisa membatasi max_depth lebih ketat\")\n",
        "print(\"   - Coba teknik pruning (ccp_alpha) untuk mengurangi kompleksitas tree\")\n",
        "print(\"   - Untuk performa lebih baik, pertimbangkan ensemble methods seperti Random Forest yang sudah dicoba sebelumnya\")\n",
        "print(\"   - Feature importance dari Decision Tree bisa membantu seleksi fitur\")"
      ],
      "metadata": {
        "colab": {
          "base_uri": "https://localhost:8080/"
        },
        "id": "5fFYEEAEiSnc",
        "outputId": "8b10c6c7-71b8-482e-9675-3b00df7afa22"
      },
      "execution_count": null,
      "outputs": [
        {
          "output_type": "stream",
          "name": "stdout",
          "text": [
            "\n",
            "Analisis Hasil Evaluasi Decision Tree:\n",
            "1. Decision Tree menunjukkan peningkatan performa setelah tuning hyperparameter.\n",
            "2. Terjadi peningkatan akurasi sebesar -0.93% setelah tuning.\n",
            "3. Precision dan recall model perlu diperiksa untuk setiap kelas:\n",
            "   - Jika ada ketidakseimbangan, pertimbangkan teknik class weighting atau resampling\n",
            "4. Rekomendasi untuk Decision Tree:\n",
            "   - Jika model masih overfit, bisa membatasi max_depth lebih ketat\n",
            "   - Coba teknik pruning (ccp_alpha) untuk mengurangi kompleksitas tree\n",
            "   - Untuk performa lebih baik, pertimbangkan ensemble methods seperti Random Forest yang sudah dicoba sebelumnya\n",
            "   - Feature importance dari Decision Tree bisa membantu seleksi fitur\n"
          ]
        }
      ]
    },
    {
      "cell_type": "markdown",
      "source": [
        "Berikut adalah **rekomendasi** tahapannya.\n",
        "1. Bandingkan hasil evaluasi sebelum dan setelah tuning (jika dilakukan).\n",
        "2. Identifikasi kelemahan model, seperti:\n",
        "  - Precision atau Recall rendah untuk kelas tertentu.\n",
        "  - Apakah model mengalami overfitting atau underfitting?\n",
        "3. Berikan rekomendasi tindakan lanjutan, seperti mengumpulkan data tambahan atau mencoba algoritma lain jika hasil belum memuaskan."
      ],
      "metadata": {
        "id": "Hm3BhSi6N4_l"
      }
    }
  ]
}